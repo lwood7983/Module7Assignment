{
 "cells": [
  {
   "cell_type": "markdown",
   "metadata": {},
   "source": [
    "# Web Mining and Applied NLP (44-620)\n",
    "\n",
    "## Final Project: Article Summarizer\n",
    "\n",
    "### Student Name:  Loni Wood\n",
    "### Github link:  https://github.com/lwood7983/Module7Assignment\n",
    "\n",
    "Perform the tasks described in the Markdown cells below.  When you have completed the assignment make sure your code cells have all been run (and have output beneath them) and ensure you have committed and pushed ALL of your changes to your assignment repository.\n",
    "\n",
    "You should bring in code from previous assignments to help you answer the questions below.\n",
    "\n",
    "Every question that requires you to write code will have a code cell underneath it; you may either write your entire solution in that cell or write it in a python file (`.py`), then import and run the appropriate code to answer the question."
   ]
  },
  {
   "cell_type": "markdown",
   "metadata": {},
   "source": [
    "1. Find on the internet an article or blog post about a topic that interests you and you are able to get the text for using the technologies we have applied in the course.  Get the html for the article and store it in a file (which you must submit with your project)"
   ]
  },
  {
   "cell_type": "markdown",
   "metadata": {},
   "source": [
    "### Question 1:"
   ]
  },
  {
   "cell_type": "code",
   "execution_count": 1,
   "metadata": {},
   "outputs": [
    {
     "name": "stdout",
     "output_type": "stream",
     "text": [
      "During the past year, the USDA has documented more than 70 welfare violations at Envigo’s operation in Cumberland, Virginia, which has 5,000 beagles. Envigo breeds the dogs for toxicology research.Photograph by PETAPlease be respectful of copyright. Unauthorized use is prohibited.AnimalsWildlife WatchHundreds of beagles died at facility before government took actionIt took media attention to ‘chilling’ welfare violations and bipartisan calls for action before authorities intervened.ByRachel FobarPublished May 20, 2022• 15 min readShareTweetEmailUpdate: On May 21, a U.S. district court judge ordered Envigo’s Cumberland facility to “immediately cease breeding, selling, or otherwise dealing in beagles” until it separates dogs that don’t get along, ensures every puppy has access to clean water, and submits an inventory of every dog to the government, among other requirements.More than 5,000 dogs were crowded in small, barren cages lined with feces and mold. A three-week-old puppy was stuck in a waste pan under his cage, dried feces matting his fur. Fights between kennel mates had left some dogs dead, including one by “evisceration.”  These violations and dozens more were documented in recent United States Department of Agriculture public inspection reports. Yet for months, the USDA, which is responsible for enforcing the Animal Welfare Act, neither confiscated any dogs nor suspended or revoked the license of the animal-breeding facility in Cumberland, Virginia. The facility is owned by Envigo, a privately held company with 20 locations across North America and Europe that provides animals for pharmaceutical and biomedical research.In early May, National Geographic approached the USDA for comment about the facility’s history of violations and ongoing welfare problems. On May 18, authorities from the USDA and the Department of Justice confiscated 145 dogs in need of immediate medical care from Envigo’s facility in Cumberland, Virginia, according to a complaint filed the next day by the DOJ in federal court against Envigo. The Humane Society of the United States assisted in the seizures. “Envigo’s disregard for the law and the welfare of the beagles in its care has resulted in the animals’ needless suffering and, in some cases, death,” according to the DOJ complaint.In a statement, Envigo denied the DOJ’s allegations and said it planned to fight the lawsuit. “The highest quality of animal welfare is a core value of our company and is central to our business,” it said.Dogs at Envigo are crowded in small, barren cages. According to the USDA, puppies were found stuck in waste pans under their cages, and 13 nursing females had been deprived of food for 42 hours. Some animals had died from injuries inflicted during fights.Photograph by PETAPlease be respectful of copyright. Unauthorized use is prohibited.The lack of punitive action before May 18, given the gravity and number of the violations, has shocked and mystified animal welfare advocates.“It is baffling” that the USDA repeatedly cited Envigo without rendering “immediate aid to those animals,” said Daphna Nachminovitch, senior vice president of cruelty investigations for People for the Ethical Treatment of Animals, which carried out a separate undercover investigation at Envigo last year.  It isn’t just animal welfare activists who raised the alarm; outrage over the violations have become a bipartisan rallying point. In early April, Virginia’s Republican governor, Glenn Youngkin, signed five “beagle bills” to protect research animals and block dealers from doing business after severe welfare violations.U.S. Senators Mark Warner and Tim Kaine, both Democrats, wrote to the USDA urging it to “pursue aggressive enforcement actions” against Envigo. “In light of persistent and egregious violations” of the Animal Welfare Act, the senators urged the department to “immediately suspend the license of the Envigo breeding facility in Cumberland and initiate formal administrative proceedings.”Envigo breeds beagles as well as primates, rabbits, and rodents for use in toxicology research and other medical experiments. The Virginia facility is a member of the Association for Assessment and Accreditation of Laboratory Animal Care International, or AAALAC, an accrediting body that conducts site visits every three years.Businesses that profit from certain species of animals must be licensed under the Animal Welfare Act, which requires them to be inspected regularly by the USDA to ensure compliance. In four visits to the Cumberland operation since July 2021—most recently in March 2022—USDA inspectors documented more than 70 welfare violations. They found that 13 beagle mothers who were nursing litters of six-week-old puppies, 78 in all, had gone without food for 42 hours. According to the inspectors’ report, Envigo deprived the mothers to reduce their milk production as part of its “weaning of puppies” procedure.To have so many violations is “unheard of,” Nachminovitch says. And considering their severity, “it’s chilling.”The confiscated beagles will be placed “with rescue and shelter partners for adoption after their immediate needs are tended to,” according to the Humane Society.In a statement given to National Geographic prior to the seizure of dogs, Envigo spokesperson Mark Hubbard said the facility has made improvements in recent months, including reducing the number of dogs on-site, hiring a second veterinarian, performing more than 2,700 physical examinations, and increasing staff salaries. “We are aware the USDA has issued another inspection report that essentially repeats earlier findings, all of which are being addressed through a comprehensive remediation plan that has been in progress,” he wrote.Hubbard also said that the USDA recognizes improvements Envigo has made and that AAALAC has indicated that the facility should continue to receive accreditation. Yet the pattern of welfare violations at what is now Envigo dates back decades. USDA records also show that Huntingdon Life Sciences, which later merged with Harlan Labs to form Envigo, has had violations going back to the late 1990s. Citations from a 1997 report on Huntingdon showed “severe” suffering at a New Jersey facility—including a dog with an untreated broken leg, a drugged dog that was recommended for euthanasia but was not put down, and primates crying out and vomiting, unattended by a veterinarian.Envigo’s record is an “unmitigated, unprecedented disaster,” says Eric Kleiman, a researcher at the Animal Welfare Institute, a nonprofit organization based in Washington, D.C.USDA’s spotty enforcement recordNational Geographic has documented a pattern of USDA failure to take action over animal welfare violations during the past several years, marked by a 90 percent drop in enforcement actions against licensed animal facilities between 2015 and 2020. There were two high-profile license revocations late last year.In October 2021, the department revoked the license of Moulton Chinchilla Ranch in Minnesota after citing it for more than a hundred violations dating back to 2013; inspectors had found filthy cages, decomposing carcasses, and accumulated feces. Less than a month later, the USDA revoked the license of Iowa dog breeder Daniel Gingerich after multiple inspections over six months. Dogs had heavily matted coats and skin conditions, and many were seen panting in the summer heat, their water bowls empty. At least three dogs were found dead.In comparison, more than 300 puppies died at Envigo’s Cumberland branch between January 1 and July 20, 2021, and “the facility has not taken additional steps to determine the causes of death,” according to the USDA report. Yet for months, the department failed to take any action.One veterinarian for 5,000 dogsNot attempting to establish why the dogs died violates the Animal Welfare Act. At the time of the USDA’s July and October 2021 inspections, Envigo had only one staff veterinarian to attend to 5,000 dogs. The USDA’s numerous veterinary care citations are “evidence that [one veterinarian] is an insufficient number,” Kleiman says.The USDA’s inspection policy requires a follow-up visit within 14 days of a “direct” citation, a violation that has a “serious or adverse effect on the health and well-being of the animal.” In the July 20 report, inspectors noted seven direct non-compliances, including food deprivation, cramped living spaces, and inadequate veterinary care for ear infections and oozing wounds. Yet inspectors didn’t return as required to Cumberland for three months. In November 2021 and March 2022, inspectors documented more direct citations, but again failed to re-inspect within 14 days.A beagle peeks out of a cage at Inotiv’s Mount Vernon, Indiana facility, where the Humane Society of the United States conducted a seven-month investigation that ended in March. The USDA has taken no enforcement action against this facility.Photograph by Humane SocietyPlease be respectful of copyright. Unauthorized use is prohibited.The Animal Welfare Act also requires that whenever the USDA believes a business is “placing the health of any animal in serious danger,” the department must notify the U.S. Attorney General, who has the discretion to prosecute the case in federal court. ‘Prolonged, unalleviated pain’A recent investigation of another facility accredited by AAALAC indicates that Envigo’s welfare problems are not isolated.Inotiv—a rapidly expanding multinational pharmaceutical development company that breeds, sells, and conducts toxicology and other experiments on animals—reported $89.6 million in revenue last year, when it acquired Envigo. Inotiv owns about 62,000 animals, including monkeys, rabbits, and cats, as well as the thousands of beagles.In a seven-month undercover investigation of an Inotiv laboratory in Mount Vernon, Indiana, released on April 21, the Humane Society of the United States found that dogs, primates, pigs, mice, and rats faced “prolonged, unalleviated pain” during toxicology tests before they died.Toxicology tests assess an animal’s tolerance to drugs. Doses administered by injection or feeding tube are increased until the animal experiences adverse effects.In a statement, Inotiv spokesperson Kate Snedeker said the company is “governed by applicable federal, state, and local regulations,” as well as its internal animal care guidelines and oversight by the USDA and AAALAC.I’m so sorry, lady—maybe this will be your last dose. I kind of hope it is because it’s torture at this point.ByAn Inotiv technician, dosing a primate“The research we conduct is required by global governmental regulatory agencies before new life-saving drugs can be brought to the market,” she wrote. “For more than 20 years, Inotiv has participated, directly and indirectly, in studying and developing alternative methods to conduct biomedical research.” Snedeker could not be immediately reached for comment about the seizures at Envigo’s Cumberland facility.The Food and Drug Administration, which approves drugs for human use, says drug companies do animal tests “to discover how the drug works and whether it’s likely to be safe and work well in humans.” But the agency doesn’t mandate animal trials.Yet drug companies routinely conduct tests on animals because it’s “the status quo,” says Kitty Block, the Humane Society’s president. “There’s big money in breeding these animals and then using them.” She considers the reliance on animal testing “lazy,” and says the FDA should promote innovative, humane drug-testing methods such as organ-on-a-chip technologies, 3D printing of human tissues, and computer modeling instead.  FDA press officer Veronika Pfaeffle said her agency aims to “reduce the reliance on animal-based studies” and has taken significant steps in “replacing, reducing, and/or refining” them, including forming working groups to advance new technologies. But “there are still many areas where animal research is scientifically necessary,” she said.For example, alternative approaches “cannot always predict side effects” that might occur in the human body, she said, adding that animal research has been instrumental in advancing drugs to prevent polio, eradicate smallpox, and vaccinate against and treat COVID-19.At the Inotiv facility, the Humane Society witnessed research macaques restrained for dosing with experimental drugs and left unattended. According to the investigator's report, two primates accidentally hanged themselves.Photograph by Humane SocietyPlease be respectful of copyright. Unauthorized use is prohibited.When necessary for research, the animals involved “should be cared for under strict, humane guidelines,” Pfaeffle said.‘This is a nasty business’But the FDA isn’t responsible for ensuring humane treatment of animals; that falls to the USDA and AAALAC. If, for example, an animal is in extreme distress, the USDA requires facilities to “ensure that animal pain and distress are minimized” and to have a protocol for euthanizing animals.Yet at Inotiv’s Indiana facility, the Humane Society’s investigator saw researchers continuing to administer doses of drugs to animals that were shaking, vomiting, and had labored breathing. According to the report, an Inotiv technician, under orders from the veterinarian, continued to dose a primate in obvious distress, while saying, “I’m so sorry, lady—maybe this will be your last dose. I kind of hope it is because it’s torture at this point.”Inotiv’s Indiana lab, with more than 1,300 animals, had only one full-time veterinarian between August 2021 and March 2022, according to the Humane Society’s investigation. Fewer than 50 staff were spread so thinly that basic care, such as trimming dogs’ toenails, was neglected, according to the Humane Society. Primates were left unattended in restraint chairs, and two accidentally hanged themselves, the investigator reported.Animal welfare experts are critical not just of the USDA’s reluctance to take action over infractions, but also of what they consider to be AAALAC’s weak oversight. The industry’s accreditation agency schedules site visits only once every three years and, according to the Animal Welfare Institute, has a history of dismissing welfare problems that violate the USDA’s guidelines. AAALAC’s reports are not made public.The organization’s accreditation isn’t “even close to being sufficient” to ensure animal welfare, Block says. It’s “the proverbial fox guarding the hen house.”Kathryn Bayne, the global director of AAALAC, defended her organization, writing in an email that “AAALAC International takes very seriously information received regarding compromised research animal welfare at an institution participating in the accreditation program. Investigations are ongoing.”The USDA’s most recent inspection of Inotiv’s lab, in August 2021, cited no infractions, despite multiple violations documented by the Humane Society investigation at the same time. The multiple severe violations documented at Envigo’s facility and the alleged failure to follow euthanasia procedures at Inotiv’s should be a wakeup call for the USDA to ramp up its oversight and enforcement of animal breeding and research companies, Kleiman says. “Research won’t police itself.”Kleiman says the USDA should send an unequivocal message that “no matter how large, how powerful, how wealthy” these companies are, animal suffering won’t be tolerated.“This is a nasty business,\" Block says. “There’s cruelty everywhere, from the beginning of it to the end.”The National Geographic Society supports Wildlife Watch, our investigative reporting project focused on wildlife crime and exploitation. Read more Wildlife Watch stories here, and send tips, feedback, and story ideas to NGP.WildlifeWatch@natgeo.com. Learn about the National Geographic Society’s nonprofit mission at natgeo.com/impact.This story was originally published on May 19 at 6 a.m. It was updated at 6:30 p.m. with news about the USDA confiscating the dogs from the Envigo facility. The story was updated again on May 20 to reflect the DOJ’s lawsuit and on May 21 to include the court’s temporary restraining order and Envigo’s response. ShareTweetEmail\n"
     ]
    }
   ],
   "source": [
    "import requests\n",
    "from bs4 import BeautifulSoup\n",
    "\n",
    "url = \"https://www.nationalgeographic.com/animals/article/hundreds-of-beagles-have-died-at-a-major-research-animal-breeding-facility\"\n",
    "page = requests.get(url)\n",
    "    \n",
    "with open('article.html', 'w', encoding =\"utf-8\") as file:\n",
    "    file.write(page.text)\n",
    "    \n",
    "with open('article.html', 'r', encoding='utf-8') as f:\n",
    "    page = f.read()\n",
    "soup = BeautifulSoup(page, 'html5lib')\n",
    "for data in soup(['style','script']):\n",
    "    data.decompose()\n",
    "article=soup.find('article')\n",
    "print(article.get_text())\n"
   ]
  },
  {
   "cell_type": "markdown",
   "metadata": {},
   "source": [
    "### Question 2:"
   ]
  },
  {
   "cell_type": "markdown",
   "metadata": {},
   "source": [
    "2. Read in your article's html source from the file you created in question 1 and do sentiment analysis on the article/post's text (use `.get_text()`).  Print the polarity score with an appropriate label.  Additionally print the number of sentences in the original article (with an appropriate label)"
   ]
  },
  {
   "cell_type": "code",
   "execution_count": 2,
   "metadata": {},
   "outputs": [
    {
     "name": "stdout",
     "output_type": "stream",
     "text": [
      "Polarity score for this article is: 0.016168453913551956\n",
      "The total sentence count for this article is: 170 sentences\n"
     ]
    }
   ],
   "source": [
    "import spacy\n",
    "from spacytextblob.spacytextblob import SpacyTextBlob\n",
    "\n",
    "nlp = spacy.load('en_core_web_sm')\n",
    "nlp.add_pipe('spacytextblob')\n",
    "doc = nlp(article.get_text())\n",
    "print('Polarity score for this article is:', doc._.blob.polarity)\n",
    "\n",
    "sentences = list(doc.sents)\n",
    "for sentence in sentences:\n",
    "    count  =+ 1\n",
    "    for item in soup.find('article'):\n",
    "        item.get_text(\"\\n\", strip=True)\n",
    "sent_str = str(sentence).replace('\\n','').replace('  ',' ')\n",
    "print('The total sentence count for this article is:', len(sent_str), 'sentences')"
   ]
  },
  {
   "cell_type": "markdown",
   "metadata": {},
   "source": [
    "### Question 3:"
   ]
  },
  {
   "cell_type": "markdown",
   "metadata": {},
   "source": [
    "3. Load the article text into a trained `spaCy` pipeline, and determine the 5 most frequent tokens (converted to lower case).  Print the common tokens with an appropriate label.  Additionally, print the tokens their frequencies (with appropriate labels)"
   ]
  },
  {
   "cell_type": "code",
   "execution_count": 3,
   "metadata": {
    "tags": []
   },
   "outputs": [
    {
     "name": "stdout",
     "output_type": "stream",
     "text": [
      "[('animal', 32), ('usda', 29), ('envigo', 27), ('welfare', 23), ('facility', 20)]\n",
      "These are the top 5 most frequent tokens and counts [('animal', 32), ('usda', 29), ('envigo', 27), ('welfare', 23), ('facility', 20)]\n"
     ]
    }
   ],
   "source": [
    "def we_care_about(token):\n",
    "    return not (token.is_space or token.is_punct or token.is_stop)\n",
    "\n",
    "interesting_tokens = [str(token).lower() for token in doc if we_care_about(token)]\n",
    "\n",
    "from collections import Counter\n",
    "word_freq = Counter(map(str,interesting_tokens))\n",
    "\n",
    "word_freq = Counter(map(str,interesting_tokens))\n",
    "print(word_freq.most_common(5))\n",
    "print('These are the top 5 most frequent tokens and counts', word_freq.most_common(5))"
   ]
  },
  {
   "cell_type": "markdown",
   "metadata": {},
   "source": [
    "### Question 4:"
   ]
  },
  {
   "cell_type": "markdown",
   "metadata": {},
   "source": [
    "4. Load the article text into a trained `spaCy` pipeline, and determine the 5 most frequent lemmas (converted to lower case).  Print the common lemmas with an appropriate label.  Additionally, print the lemmas with their frequencies (with appropriate labels)."
   ]
  },
  {
   "cell_type": "code",
   "execution_count": 4,
   "metadata": {},
   "outputs": [
    {
     "name": "stdout",
     "output_type": "stream",
     "text": [
      "[('animal', 47), ('usda', 29), ('envigo', 27), ('welfare', 23), ('facility', 22)]\n",
      "These are the top 5 most frequent lemmas and counts [('animal', 47), ('usda', 29), ('envigo', 27), ('welfare', 23), ('facility', 22)]\n"
     ]
    }
   ],
   "source": [
    "interesting_lemmas = [token.lemma_.lower() for token in doc if we_care_about(token)]\n",
    "lemma_freq = Counter(interesting_lemmas)\n",
    "print(lemma_freq.most_common(5))\n",
    "print('These are the top 5 most frequent lemmas and counts', lemma_freq.most_common(5))"
   ]
  },
  {
   "cell_type": "markdown",
   "metadata": {},
   "source": [
    "### Question 5:"
   ]
  },
  {
   "cell_type": "markdown",
   "metadata": {},
   "source": [
    "5. Make a list containing the scores (using tokens) of every sentence in the article, and plot a histogram with appropriate titles and axis labels of the scores. From your histogram, what seems to be the most common range of scores (put the answer in a comment after your code)?"
   ]
  },
  {
   "cell_type": "code",
   "execution_count": 5,
   "metadata": {},
   "outputs": [
    {
     "name": "stdout",
     "output_type": "stream",
     "text": [
      "[0.5416666666666666, 0.7142857142857143, 0.5714285714285714, 0.75, 0.7307692307692307, 0.875, 0.5094339622641509, 0.6, 0.5789473684210527, 0.6153846153846154, 0.6470588235294118, 0.53125, 0.6153846153846154, 0.5714285714285714, 0.5454545454545454, 0.5454545454545454, 0.46875, 0.5294117647058824, 0.47619047619047616, 0.6666666666666666, 0.5769230769230769, 0.5555555555555556, 0.5714285714285714, 0.75, 0.5652173913043478, 0.6363636363636364, 0.47619047619047616, 0.7037037037037037, 0.6818181818181818, 0.6285714285714286, 0.5555555555555556, 0.5666666666666667, 0.5172413793103449, 0.6086956521739131, 0.56, 0.5454545454545454, 0.4, 0.5, 0.5416666666666666, 0.6458333333333334, 0.45454545454545453, 0.5, 0.42857142857142855, 0.5769230769230769, 0.5217391304347826, 0.6896551724137931, 0.5945945945945946, 0.6, 0.5675675675675675, 0.5909090909090909, 0.5714285714285714, 0.42857142857142855, 0.5789473684210527, 0.4, 0.6470588235294118, 0.5217391304347826, 0.6111111111111112, 0.42857142857142855, 0.8148148148148148, 0.4166666666666667, 0.6, 0.5806451612903226, 0.5, 0.625, 0.75, 0.5, 0.65, 0.6774193548387096, 0.5882352941176471, 0.6744186046511628, 0.6666666666666666, 0.6666666666666666, 0.5454545454545454, 0.3076923076923077, 0.6551724137931034, 0.6190476190476191, 0.5, 0.5277777777777778, 0.5, 0.6363636363636364, 0.3333333333333333, 0.6571428571428571, 0.75, 0.42857142857142855, 0.603448275862069, 0.5454545454545454, 0.625, 0.75, 0.5882352941176471, 0.5217391304347826, 0.5, 0.5862068965517241, 0.47058823529411764, 0.3076923076923077, 0.5, 0.5384615384615384, 0.6086956521739131, 0.6, 0.41379310344827586, 0.5454545454545454, 0.42857142857142855, 0.5294117647058824, 0.6, 0.6470588235294118, 0.75, 0.6071428571428571, 0.5348837209302325, 0.6, 0.5555555555555556, 0.7142857142857143, 0.3076923076923077, 0.8125, 0.6666666666666666, 0.6190476190476191, 0.5, 0.4838709677419355]\n"
     ]
    },
    {
     "data": {
      "image/png": "[encoded data removed]",
      "text/plain": [
       "<Figure size 432x288 with 1 Axes>"
      ]
     },
     "metadata": {
      "needs_background": "light"
     },
     "output_type": "display_data"
    }
   ],
   "source": [
    "import matplotlib.pyplot as plt\n",
    "def sentence_length(sentence):\n",
    "    count = 0\n",
    "    for token in sentence:\n",
    "        if not(token.is_space or token.is_punct):\n",
    "            count += 1\n",
    "    return count\n",
    "\n",
    "def score_sentence_by_token(sentence, interesting_tokens):\n",
    "    count = 0\n",
    "    if sentence_length(sentence) == 0:\n",
    "        return 0\n",
    "    for token in sentence:\n",
    "        if str(token).lower() in interesting_tokens:\n",
    "            count += 1\n",
    "    return count/sentence_length(sentence)\n",
    "\n",
    "token_scores = []\n",
    "\n",
    "for sentence in sentences:\n",
    "    token_scores.append(score_sentence_by_token(sentence, interesting_tokens))\n",
    "print(token_scores)\n",
    "plt.hist(token_scores)\n",
    "plt.title('Token Score by Sentence')\n",
    "plt.xlabel('Scores')\n",
    "plt.ylabel('Count')\n",
    "plt.show() \n",
    "\n",
    "### Based on the histogram, the most common range of scores appear to be the range appears to be heavily between 0.5 - 0.65 with a high peak around 0.55 - 0.65."
   ]
  },
  {
   "cell_type": "markdown",
   "metadata": {},
   "source": [
    "### Question 6"
   ]
  },
  {
   "cell_type": "markdown",
   "metadata": {},
   "source": [
    "6. Make a list containing the scores (using lemmas) of every sentence in the article, and plot a histogram with appropriate titles and axis labels of the scores.  From your histogram, what seems to be the most common range of scores (put the answer in a comment after your code)?"
   ]
  },
  {
   "cell_type": "code",
   "execution_count": 6,
   "metadata": {},
   "outputs": [
    {
     "name": "stdout",
     "output_type": "stream",
     "text": [
      "[0.5, 0.5714285714285714, 0.5714285714285714, 0.5, 0.4230769230769231, 0.875, 0.4528301886792453, 0.4, 0.3684210526315789, 0.46153846153846156, 0.5294117647058824, 0.4375, 0.46153846153846156, 0.47619047619047616, 0.45454545454545453, 0.45454545454545453, 0.40625, 0.35294117647058826, 0.42857142857142855, 0.5555555555555556, 0.38461538461538464, 0.2222222222222222, 0.5714285714285714, 0.5, 0.391304347826087, 0.5227272727272727, 0.38095238095238093, 0.5925925925925926, 0.5909090909090909, 0.5428571428571428, 0.3333333333333333, 0.5666666666666667, 0.4482758620689655, 0.5217391304347826, 0.32, 0.36363636363636365, 0.3, 0.5, 0.3333333333333333, 0.4791666666666667, 0.30303030303030304, 0.3333333333333333, 0.2857142857142857, 0.46153846153846156, 0.45652173913043476, 0.6206896551724138, 0.5675675675675675, 0.5, 0.35135135135135137, 0.5454545454545454, 0.2857142857142857, 0.2857142857142857, 0.4473684210526316, 0.3, 0.5294117647058824, 0.5217391304347826, 0.5555555555555556, 0.4, 0.5925925925925926, 0.25, 0.45, 0.5483870967741935, 0.4, 0.625, 0.5, 0.42857142857142855, 0.4, 0.5161290322580645, 0.29411764705882354, 0.46511627906976744, 0.5555555555555556, 0.5333333333333333, 0.45454545454545453, 0.3076923076923077, 0.5172413793103449, 0.42857142857142855, 0.4375, 0.4444444444444444, 0.375, 0.5454545454545454, 0.3333333333333333, 0.5428571428571428, 0.4722222222222222, 0.2857142857142857, 0.4827586206896552, 0.36363636363636365, 0.625, 0.5, 0.4117647058823529, 0.4782608695652174, 0.4, 0.4827586206896552, 0.4117647058823529, 0.3076923076923077, 0.5, 0.5, 0.391304347826087, 0.4, 0.3448275862068966, 0.3939393939393939, 0.42857142857142855, 0.47058823529411764, 0.5, 0.5, 0.75, 0.5, 0.46511627906976744, 0.4, 0.4444444444444444, 0.5714285714285714, 0.3076923076923077, 0.6875, 0.5333333333333333, 0.5714285714285714, 0.3888888888888889, 0.45161290322580644]\n"
     ]
    },
    {
     "data": {
      "image/png": "[encoded data removed]",
      "text/plain": [
       "<Figure size 432x288 with 1 Axes>"
      ]
     },
     "metadata": {
      "needs_background": "light"
     },
     "output_type": "display_data"
    }
   ],
   "source": [
    "lemma_scores = []\n",
    "\n",
    "interesting_lemmas, sent_index_lemmas = zip(*lemma_freq.most_common(5))\n",
    "def score_sentence_by_lemma(sentence, interesting_lemmas):\n",
    "    count = 0\n",
    "    if sentence_length(sentence) == 0:\n",
    "        return 0\n",
    "    else:\n",
    "        for token in sentence:\n",
    "            if token.lemma_.lower() in interesting_tokens:\n",
    "                count += 1\n",
    "        return count/sentence_length(sentence)\n",
    "\n",
    "    \n",
    "\n",
    "for sentence in sentences:\n",
    "    lemma_scores.append(score_sentence_by_lemma(sentence, interesting_lemmas))\n",
    "print(lemma_scores)\n",
    "\n",
    "plt.hist(lemma_scores)\n",
    "plt.title('Lemma Score by Sentence')\n",
    "plt.xlabel('Scores')\n",
    "plt.ylabel('Count')\n",
    "plt.show() \n",
    "\n",
    "### Looking at the histogram for the lemma scores is between 0.4-0.55 with peaks around 0.45-0.55."
   ]
  },
  {
   "cell_type": "markdown",
   "metadata": {},
   "source": [
    "### Question 7:"
   ]
  },
  {
   "cell_type": "markdown",
   "metadata": {},
   "source": [
    "7. Using the histograms from questions 5 and 6, decide a \"cutoff\" score for tokens and lemmas such that fewer than half the sentences would have a score greater than the cutoff score.  Record the scores in this Markdown cell\n",
    "\n",
    "* Cutoff Score (tokens): 0.74\n",
    "* Cutoff Score (lemmas): 0.58\n",
    "\n",
    "Feel free to change these scores as you generate your summaries.  Ideally, we're shooting for at least 6 sentences for our summary, but don't want more than 10 (these numbers are rough estimates; they depend on the length of your article)."
   ]
  },
  {
   "cell_type": "markdown",
   "metadata": {},
   "source": [
    "### Question 8:"
   ]
  },
  {
   "cell_type": "markdown",
   "metadata": {},
   "source": [
    "8. Create a summary of the article by going through every sentence in the article and adding it to an (initially) empty list if its score (based on tokens) is greater than the cutoff score you identified in question 8.  If your loop variable is named `sent`, you may find it easier to add `sent.text.strip()` to your list of sentences.  Print the summary (I would cleanly generate the summary text by `join`ing the strings in your list together with a space (`' '.join(sentence_list)`)."
   ]
  },
  {
   "cell_type": "code",
   "execution_count": 7,
   "metadata": {},
   "outputs": [
    {
     "name": "stdout",
     "output_type": "stream",
     "text": [
      "Unauthorized use is prohibited. ByRachel FobarPublished May 20, 2022• 15 min readShareTweetEmailUpdate: Unauthorized use is prohibited. In the July 20 report, inspectors noted seven direct non-compliances, including food deprivation, cramped living spaces, and inadequate veterinary care for ear infections and oozing wounds. Unauthorized use is prohibited. FDA press officer Veronika Pfaeffle said her agency aims to “reduce the reliance on animal-based studies” and has taken significant steps in “replacing, reducing, and/or refining” them, including forming working groups to advance new technologies. Unauthorized use is prohibited. Investigations are ongoing.”The National Geographic Society supports Wildlife Watch, our investigative reporting project focused on wildlife crime and exploitation.\n"
     ]
    }
   ],
   "source": [
    "token_cutoff = 0.74\n",
    "token_summary = []\n",
    "for sentence in sentences:\n",
    "    if(score_sentence_by_token(sentence, interesting_tokens)>token_cutoff):\n",
    "        token_summary.append(str(sentence))\n",
    "print(' '.join(token_summary))\n",
    "\n",
    "\n"
   ]
  },
  {
   "cell_type": "markdown",
   "metadata": {},
   "source": [
    "### Question 9:"
   ]
  },
  {
   "cell_type": "markdown",
   "metadata": {},
   "source": [
    "9. Print the polarity score of your summary you generated with the token scores (with an appropriate label). Additionally, print the number of sentences in the summarized article."
   ]
  },
  {
   "cell_type": "code",
   "execution_count": 8,
   "metadata": {},
   "outputs": [
    {
     "name": "stdout",
     "output_type": "stream",
     "text": [
      "Polarity score for this article is: 0.20378787878787877\n",
      "The number of sentences for the token summary is: 9\n"
     ]
    }
   ],
   "source": [
    "text = (' '.join(token_summary))\n",
    "doc2 = nlp(text)\n",
    "doc2._.blob.polarity                  \n",
    "print('Polarity score for this article is:', doc2._.blob.polarity)\n",
    "print('The number of sentences for the token summary is:',len(token_summary))"
   ]
  },
  {
   "cell_type": "markdown",
   "metadata": {},
   "source": [
    "### Question 10:"
   ]
  },
  {
   "cell_type": "markdown",
   "metadata": {},
   "source": [
    "10. Create a summary of the article by going through every sentence in the article and adding it to an (initially) empty list if its score (based on lemmas) is greater than the cutoff score you identified in question 8.  If your loop variable is named `sent`, you may find it easier to add `sent.text.strip()` to your list of sentences.  Print the summary (I would cleanly generate the summary text by `join`ing the strings in your list together with a space (`' '.join(sentence_list)`)."
   ]
  },
  {
   "cell_type": "code",
   "execution_count": 9,
   "metadata": {},
   "outputs": [
    {
     "name": "stdout",
     "output_type": "stream",
     "text": [
      "ByRachel FobarPublished May 20, 2022• 15 min readShareTweetEmailUpdate: In early April, Virginia’s Republican governor, Glenn Youngkin, signed five “beagle bills” to protect research animals and block dealers from doing business after severe welfare violations. U.S. Senators Mark Warner and Tim Kaine, both Democrats, wrote to the USDA urging it to “pursue aggressive enforcement actions” against Envigo. Envigo’s record is an “unmitigated, unprecedented disaster,” says Eric Kleiman, a researcher at the Animal Welfare Institute, a nonprofit organization based in Washington, D.C.USDA’s spotty enforcement recordNational In the July 20 report, inspectors noted seven direct non-compliances, including food deprivation, cramped living spaces, and inadequate veterinary care for ear infections and oozing wounds. Photograph by Humane SocietyPlease be respectful of copyright. Photograph by Humane SocietyPlease be respectful of copyright. Investigations are ongoing.”The National Geographic Society supports Wildlife Watch, our investigative reporting project focused on wildlife crime and exploitation.\n",
      "9\n"
     ]
    }
   ],
   "source": [
    "lemma_cutoff = 0.58\n",
    "lemma_summary = []\n",
    "for sentence in sentences:\n",
    "    if(score_sentence_by_lemma(sentence, interesting_lemmas)>=lemma_cutoff):\n",
    "        lemma_summary.append(str(sentence))\n",
    "print(' '.join(lemma_summary))\n",
    "print(len(lemma_summary))"
   ]
  },
  {
   "cell_type": "markdown",
   "metadata": {},
   "source": [
    "### Question 11:"
   ]
  },
  {
   "cell_type": "markdown",
   "metadata": {},
   "source": [
    "11. Print the polarity score of your summary you generated with the lemma scores (with an appropriate label). Additionally, print the number of sentences in the summarized article."
   ]
  },
  {
   "cell_type": "code",
   "execution_count": 10,
   "metadata": {},
   "outputs": [
    {
     "name": "stdout",
     "output_type": "stream",
     "text": [
      "Polarity score for this article is: 0.36\n",
      "The number of sentences for the lemma summary is: 9\n"
     ]
    }
   ],
   "source": [
    "text = (' '.join(lemma_summary))\n",
    "doc3 = nlp(text)\n",
    "doc3._.blob.polarity                  \n",
    "print('Polarity score for this article is:', doc3._.blob.polarity)\n",
    "print('The number of sentences for the lemma summary is:',len(lemma_summary))"
   ]
  },
  {
   "cell_type": "markdown",
   "metadata": {},
   "source": [
    "### Question 12:"
   ]
  },
  {
   "cell_type": "markdown",
   "metadata": {
    "tags": []
   },
   "source": [
    "12.  Compare your polarity scores of your summaries to the polarity scores of the initial article.  Is there a difference?  Why do you think that may or may not be?.  Answer in this Markdown cell.  \n",
    "\n",
    "### Answer:\n",
    "\n",
    "The polarity scores for the original article lean more towards a neutral side.  The token summary is a little more positive and the lemma summary is even more positive. The original article for neutral on the positive side I could see because of the organization that was writing the article.  Similar to a newspaper, it would need to try to say somewhat neutral.  I was very surprised to see each summary because more positive.  After reading the full article, yes I was very happy that these animals had been rescued but I had such a negative feeling towards the research company and the other information pertaining to the lack of care. Reading the summaries I feel like it did focus in on the better parts of it, such as the \"beagle bill\" and grazed over the state in which these animals were living.  Based on the summaries, I think the polarity scores are right on target.\n",
    "\n",
    "Article|Polarity|Sentence\n",
    "---|---|---|\n",
    "Orginal|0.16|170\n",
    "Token_Summary|0.20|9\n",
    "Lemma_Summary|0.36|9"
   ]
  },
  {
   "cell_type": "markdown",
   "metadata": {},
   "source": [
    "### Question 13:"
   ]
  },
  {
   "cell_type": "markdown",
   "metadata": {},
   "source": [
    "13. Based on your reading of the original article, which summary do you think is better (if there's a difference).  Why do you think this might be?\n",
    "\n",
    "### Answer:\n",
    "\n",
    "I would say the lemma summary is the better summary.  The lemma summary I believe provided a little better picture and some more positive outcomes of a terrible event.  I believe this summar was better because with lemmas you are looking at base words.  This allows for a base word such as animal to include the plural, animals, in the frequency count.  By doing so, either word showing up in the sentence would increase the freq/sentence score giving a better selection of sentences.\n"
   ]
  }
 ],
 "metadata": {
  "kernelspec": {
   "display_name": "Python 3 (ipykernel)",
   "language": "python",
   "name": "python3"
  },
  "language_info": {
   "codemirror_mode": {
    "name": "ipython",
    "version": 3
   },
   "file_extension": ".py",
   "mimetype": "text/x-python",
   "name": "python",
   "nbconvert_exporter": "python",
   "pygments_lexer": "ipython3",
   "version": "3.9.7"
  },
  "vscode": {
   "interpreter": {
    "hash": "95bfc378f7d57377fc36bd27145431159765a6b0ffc926caeaf9c2cc6fd2164d"
   }
  }
 },
 "nbformat": 4,
 "nbformat_minor": 4
}
